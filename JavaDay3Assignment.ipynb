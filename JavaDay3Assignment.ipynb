{
  "nbformat": 4,
  "nbformat_minor": 0,
  "metadata": {
    "colab": {
      "name": "JavaDay3Assignment.ipynb",
      "provenance": []
    },
    "kernelspec": {
      "name": "python3",
      "display_name": "Python 3"
    },
    "language_info": {
      "name": "python"
    }
  },
  "cells": [
    {
      "cell_type": "code",
      "metadata": {
        "id": "yM42UTwETWfJ"
      },
      "source": [
        "Assignment 1"
      ],
      "execution_count": null,
      "outputs": []
    },
    {
      "cell_type": "code",
      "metadata": {
        "id": "7tASAw8DRdL2"
      },
      "source": [
        "final vs finally vs finalize"
      ],
      "execution_count": null,
      "outputs": []
    },
    {
      "cell_type": "code",
      "metadata": {
        "id": "Ef483YxESSVH"
      },
      "source": [
        "Final\n",
        " \n",
        " \n",
        "final is the keyword and access modifier which is used to apply restrictions on a class, method or variable.\n",
        "final keyword is used with the classes, methods and variables."
      ],
      "execution_count": null,
      "outputs": []
    },
    {
      "cell_type": "code",
      "metadata": {
        "id": "vSOfph65SkR4"
      },
      "source": [
        "Finally\n",
        " \n",
        " \n",
        "Finally block is always related to the try and catch block in exception handling.\n",
        "finally is the block in Java Exception Handling to execute the important code whether the exception occurs or not."
      ],
      "execution_count": null,
      "outputs": []
    },
    {
      "cell_type": "code",
      "metadata": {
        "id": "FvUw4D3QTBxs"
      },
      "source": [
        " \n",
        " \n",
        "Finalize\n",
        " \n",
        " \n",
        " \n",
        "finalize is the method in Java which is used to perform clean up processing just before object is garbage collected.\n",
        "finalize() method is used with the objects."
      ],
      "execution_count": null,
      "outputs": []
    },
    {
      "cell_type": "code",
      "metadata": {
        "id": "FrRM1DAZTeRf"
      },
      "source": [
        "Assignemnt 2"
      ],
      "execution_count": null,
      "outputs": []
    },
    {
      "cell_type": "code",
      "metadata": {
        "id": "pTmuwDCbT4j7"
      },
      "source": [
        ""
      ],
      "execution_count": null,
      "outputs": []
    },
    {
      "cell_type": "code",
      "metadata": {
        "colab": {
          "base_uri": "https://localhost:8080/",
          "height": 148
        },
        "id": "72x5UIGcM7jz",
        "outputId": "32d0c683-a4d7-48fa-d35e-dd5a3e6d86e0"
      },
      "source": [
        " \n",
        "Import java.utill.scanner;\n",
        "class Cab{\n",
        "     Int fare;\n",
        "     Int d;\n",
        " \n",
        "public Cab(){\n",
        "fare=50;\n",
        "}\n",
        " \n",
        " \n",
        "public cab(int fare){\n",
        "    this.fare = fare;\n",
        "}\n",
        " \n",
        " \n",
        "public Cab(cab ob)\n",
        "     fare =ob.fare;\n",
        "}\n",
        "}\n",
        " \n",
        "class Ridecab{\n",
        "           public static void main(String[] args) { \n",
        "int cd;\n",
        "Scanner sc=new scanner(System.in);\n",
        " \n",
        "System.out.print(\"Enter the distance of cab from user:\");\n",
        "cd=sc.nextInt();\n",
        "If(cd>5){\n",
        "     Cab ob=new cab (50+ 10 * (cd-5));\n",
        "System.out.print(\"Enter the distance travelled:\");\n",
        "ob.d=sc.nextInt();\n",
        "ob.fare+=10*ob.d;\n",
        "System.out.printIn(\"Total fare:Rs\"+ob.fare);\n",
        "}\n",
        "else {\n",
        "Cab ob=new Cab();\n",
        "System.out.print(\"Enter the distance travelled:\");\n",
        "ob.d =sc.nextInt();\n",
        "ob.fare+=10*ob.d;\n",
        "System.out.printLn(\"Total fare :Rs\"+ ob fare);\n",
        "  \n",
        " \n",
        " \n",
        "Cab ob1 = new Cab(ob);\n",
        "      }\n",
        " \n",
        "    }\n",
        "}"
      ],
      "execution_count": null,
      "outputs": [
        {
          "output_type": "error",
          "ename": "SyntaxError",
          "evalue": "ignored",
          "traceback": [
            "\u001b[0;36m  File \u001b[0;32m\"<ipython-input-1-f62fb5352e4a>\"\u001b[0;36m, line \u001b[0;32m2\u001b[0m\n\u001b[0;31m    Import java.utill.scanner;\u001b[0m\n\u001b[0m              ^\u001b[0m\n\u001b[0;31mSyntaxError\u001b[0m\u001b[0;31m:\u001b[0m invalid syntax\n"
          ]
        }
      ]
    }
  ]
}