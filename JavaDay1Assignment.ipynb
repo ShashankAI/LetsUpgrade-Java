{
  "nbformat": 4,
  "nbformat_minor": 0,
  "metadata": {
    "colab": {
      "name": "JavaDay1Assignment.ipynb",
      "provenance": []
    },
    "kernelspec": {
      "display_name": "Python 3",
      "name": "python3"
    },
    "language_info": {
      "name": "python"
    }
  },
  "cells": [
    {
      "cell_type": "code",
      "metadata": {
        "id": "Cp6rVqUFmRzF"
      },
      "source": [
        "Assignment 1"
      ],
      "execution_count": null,
      "outputs": []
    },
    {
      "cell_type": "code",
      "metadata": {
        "id": "O-HtyyIrmJJS"
      },
      "source": [
        " Compliers and interpreters are programs that help convert the high level language (Source Code) into machine codes to be understood by the computers. Computer programs are usually written on high level languages. A high level language is one that can be understood by humans. To make it clear, they contain words and phrases from the languages in common use – English or other languages for example. However, computers cannot understand high level languages as we humans do. They can only understand the programs that are developed in binary systems known as a machine code. To start with, a computer program is usually written in high level language described as a source code. These source codes must be converted into machine language and here comes the role of compilers and interpreters."
      ],
      "execution_count": null,
      "outputs": []
    },
    {
      "cell_type": "code",
      "metadata": {
        "id": "-EvV0kHomLI1"
      },
      "source": [
        "Assignment 2"
      ],
      "execution_count": null,
      "outputs": []
    },
    {
      "cell_type": "markdown",
      "metadata": {
        "id": "cFrfBcJXf6wl"
      },
      "source": [
        " class Student {\n",
        "   int role;\n",
        "   float marks;\n",
        "   String name;\n",
        "}\n",
        " \n",
        "class Test {\n",
        " \n",
        "    public static void main(String[] args) {\n",
        "        \n",
        "        Student ob = new Student();\n",
        " \n",
        "        ob.role= 21\n",
        "        ob.marks=93.3\n",
        "        ob.name = \"John\";\n",
        " \n",
        "        System.out.println(ob.role);\n",
        "        System.out.println(ob.marks);\n",
        "        System.out.println(ob.name);\n",
        "    }\n",
        "}"
      ]
    }
  ]
}