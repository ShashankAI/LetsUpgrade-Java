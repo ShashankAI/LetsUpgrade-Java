{
  "nbformat": 4,
  "nbformat_minor": 0,
  "metadata": {
    "colab": {
      "name": "JavaDay1Assignment.ipynb",
      "provenance": []
    },
    "kernelspec": {
      "display_name": "Python 3",
      "name": "python3"
    },
    "language_info": {
      "name": "python"
    }
  },
  "cells": [
    {
      "cell_type": "code",
      "metadata": {
        "id": "D-0y4mjZoyE6"
      },
      "source": [
        " public class CommandLineArguments {\n",
        "    public static void main(String[] args){\n",
        "        int a = Integer.parseInt(args[0]);\n",
        "        int b = Integer.parseInt(args[1]);\n",
        "        int sum = a + b;\n",
        "        System.out.println(\"Sum is \" + sum);\n",
        "    }\n",
        "}"
      ],
      "execution_count": null,
      "outputs": []
    }
  ]
}